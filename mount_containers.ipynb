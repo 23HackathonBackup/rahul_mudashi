{
 "cells": [
  {
   "cell_type": "markdown",
   "metadata": {
    "application/vnd.databricks.v1+cell": {
     "cellMetadata": {
      "byteLimit": 2048000,
      "rowLimit": 10000
     },
     "inputWidgets": {},
     "nuid": "585ceadd-e98e-4b3c-828a-fcf480bbdf0c",
     "showTitle": false,
     "tableResultSettingsMap": {},
     "title": ""
    }
   },
   "source": [
    "#### Creating widgets to parametrize containers"
   ]
  },
  {
   "cell_type": "code",
   "execution_count": 0,
   "metadata": {
    "application/vnd.databricks.v1+cell": {
     "cellMetadata": {
      "byteLimit": 2048000,
      "rowLimit": 10000
     },
     "inputWidgets": {},
     "nuid": "05aa2ef0-86e9-4eff-b06c-cf7585077251",
     "showTitle": false,
     "tableResultSettingsMap": {},
     "title": ""
    }
   },
   "outputs": [],
   "source": [
    "dbutils.widgets.dropdown(\"Container_name\",\"bayer-squad\",[\"bayer-squad\",\"bronze\",\"silver\",\"gold\"])"
   ]
  },
  {
   "cell_type": "code",
   "execution_count": 0,
   "metadata": {
    "application/vnd.databricks.v1+cell": {
     "cellMetadata": {
      "byteLimit": 2048000,
      "rowLimit": 10000
     },
     "inputWidgets": {},
     "nuid": "af9c8a0d-715e-4b5d-9061-aa270a2cad6e",
     "showTitle": false,
     "tableResultSettingsMap": {},
     "title": ""
    }
   },
   "outputs": [],
   "source": [
    "\n",
    "selected_container = dbutils.widgets.get(\"Container_name\")\n",
    "\n",
    "storage_account_name = \"adlsaccountbayers\"\n",
    "\n",
    "container_name = selected_container\n",
    "\n",
    "mount_point = f\"/mnt/{container_name}\""
   ]
  },
  {
   "cell_type": "code",
   "execution_count": 0,
   "metadata": {
    "application/vnd.databricks.v1+cell": {
     "cellMetadata": {
      "byteLimit": 2048000,
      "rowLimit": 10000
     },
     "inputWidgets": {},
     "nuid": "3016209b-3d89-4f00-8c75-77c42b8e6efe",
     "showTitle": false,
     "tableResultSettingsMap": {},
     "title": ""
    }
   },
   "outputs": [],
   "source": [
    "storage_account_key = dbutils.secrets.get(\"access_bayer_squad_1\",\"accesskeysbayersquad1\")\n",
    "# Checking existing mount point\n",
    "existing_mounts = [mount.mountPoint for mount in dbutils.fs.mounts()]\n",
    "\n",
    "if mount_point in existing_mounts:\n",
    "    print(f\"The container {container_name} is already mounted at {mount_point}\")\n",
    "else:\n",
    "    dbutils.fs.mount(\n",
    "        source=f\"wasbs://{container_name}@{storage_account_name}.blob.core.windows.net\",\n",
    "        mount_point=mount_point,\n",
    "        extra_configs={f\"fs.azure.account.key.{storage_account_name}.blob.core.windows.net\": storage_account_key}\n",
    "    )\n",
    "    print(f\"The container {container_name} is mounted successfully\")"
   ]
  }
 ],
 "metadata": {
  "application/vnd.databricks.v1+notebook": {
   "computePreferences": null,
   "dashboards": [],
   "environmentMetadata": {
    "base_environment": "",
    "client": "1"
   },
   "language": "python",
   "notebookMetadata": {
    "pythonIndentUnit": 4
   },
   "notebookName": "mount_containers",
   "widgets": {
    "Container_name": {
     "currentValue": "bayer-squad",
     "nuid": "0481e638-f919-4a83-a746-9ec6c7ca0a56",
     "typedWidgetInfo": {
      "autoCreated": false,
      "defaultValue": "bayer-squad",
      "label": null,
      "name": "Container_name",
      "options": {
       "widgetDisplayType": "Dropdown",
       "choices": [
        "bayer-squad",
        "bronze",
        "silver",
        "gold"
       ],
       "fixedDomain": true,
       "multiselect": false
      },
      "parameterDataType": "String"
     },
     "widgetInfo": {
      "widgetType": "dropdown",
      "defaultValue": "bayer-squad",
      "label": null,
      "name": "Container_name",
      "options": {
       "widgetType": "dropdown",
       "autoCreated": null,
       "choices": [
        "bayer-squad",
        "bronze",
        "silver",
        "gold"
       ]
      }
     }
    },
    "container_name": {
     "currentValue": "bayer-squad",
     "nuid": "cfbc9d93-dc42-47bc-b254-90d5564020bf",
     "typedWidgetInfo": {
      "autoCreated": false,
      "defaultValue": "bayer-squad",
      "label": null,
      "name": "container_name",
      "options": {
       "widgetDisplayType": "Dropdown",
       "choices": [
        "bayer-squad",
        "bronze",
        "silver",
        "gold"
       ],
       "fixedDomain": true,
       "multiselect": false
      },
      "parameterDataType": "String"
     },
     "widgetInfo": {
      "widgetType": "dropdown",
      "defaultValue": "bayer-squad",
      "label": null,
      "name": "container_name",
      "options": {
       "widgetType": "dropdown",
       "autoCreated": null,
       "choices": [
        "bayer-squad",
        "bronze",
        "silver",
        "gold"
       ]
      }
     }
    }
   }
  },
  "language_info": {
   "name": "python"
  }
 },
 "nbformat": 4,
 "nbformat_minor": 0
}
