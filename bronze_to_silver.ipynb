{
 "cells": [
  {
   "cell_type": "code",
   "execution_count": 0,
   "metadata": {
    "application/vnd.databricks.v1+cell": {
     "cellMetadata": {
      "byteLimit": 2048000,
      "rowLimit": 10000
     },
     "inputWidgets": {},
     "nuid": "56414373-1cd5-43af-b955-a087e7cf9c66",
     "showTitle": false,
     "tableResultSettingsMap": {},
     "title": ""
    }
   },
   "outputs": [],
   "source": [
    "%run /Workspace/Users/mudashirahul.subhash@hcltech.com/utils/common_functions"
   ]
  },
  {
   "cell_type": "markdown",
   "metadata": {
    "application/vnd.databricks.v1+cell": {
     "cellMetadata": {
      "byteLimit": 2048000,
      "rowLimit": 10000
     },
     "inputWidgets": {},
     "nuid": "e894e0c3-49f6-49b2-a547-087ea5e2274c",
     "showTitle": false,
     "tableResultSettingsMap": {},
     "title": ""
    }
   },
   "source": [
    "#### CHECKING EXISTING MOUNT_POINTS"
   ]
  },
  {
   "cell_type": "code",
   "execution_count": 0,
   "metadata": {
    "application/vnd.databricks.v1+cell": {
     "cellMetadata": {
      "byteLimit": 2048000,
      "rowLimit": 10000
     },
     "inputWidgets": {},
     "nuid": "b195e06f-19b1-4120-b546-0cc35eb2b098",
     "showTitle": false,
     "tableResultSettingsMap": {},
     "title": ""
    }
   },
   "outputs": [],
   "source": [
    "dbutils.fs.ls(\"/mnt/bayerhackathon/\")"
   ]
  },
  {
   "cell_type": "markdown",
   "metadata": {
    "application/vnd.databricks.v1+cell": {
     "cellMetadata": {
      "byteLimit": 2048000,
      "rowLimit": 10000
     },
     "inputWidgets": {},
     "nuid": "2a0936c1-af36-4e9f-9b0f-1924815469c5",
     "showTitle": false,
     "tableResultSettingsMap": {},
     "title": ""
    }
   },
   "source": [
    "### READ FILES FROM CONTAINER AND CREATE DATAFRAMES"
   ]
  },
  {
   "cell_type": "code",
   "execution_count": 0,
   "metadata": {
    "application/vnd.databricks.v1+cell": {
     "cellMetadata": {
      "byteLimit": 2048000,
      "rowLimit": 10000
     },
     "inputWidgets": {},
     "nuid": "e530c726-8f15-44ac-ad51-d173c4e8c125",
     "showTitle": false,
     "tableResultSettingsMap": {},
     "title": ""
    }
   },
   "outputs": [],
   "source": [
    "customer_df = spark.read.csv(\"/mnt/bayerhackathon/customer.csv\", header=True, inferSchema=True)\n",
    "customer_behaviour_df = spark.read.csv(\"/mnt/bayerhackathon/customer_behaviour.csv\", header=True, inferSchema=True)\n",
    "orders_df = spark.read.csv(\"/mnt/bayerhackathon/order.csv\", header=True, inferSchema=True)\n",
    "order_line_df = spark.read.csv(\"/mnt/bayerhackathon/order_line.csv\", header=True, inferSchema=True)\n",
    "customer_scd2_df = spark.read.csv(\"/mnt/bayerhackathon/customer_SCD2_data.csv\", header=True,sep = \";\", inferSchema=True)"
   ]
  },
  {
   "cell_type": "code",
   "execution_count": 0,
   "metadata": {
    "application/vnd.databricks.v1+cell": {
     "cellMetadata": {
      "byteLimit": 2048000,
      "rowLimit": 10000
     },
     "inputWidgets": {},
     "nuid": "4d822837-c0d9-425f-b206-30fc04c61a31",
     "showTitle": false,
     "tableResultSettingsMap": {},
     "title": ""
    }
   },
   "outputs": [],
   "source": [
    "customer_df.printSchema()\n",
    "customer_behaviour_df.printSchema()\n",
    "orders_df.printSchema()\n",
    "order_line_df.printSchema()\n",
    "customer_scd2_df.printSchema()\n"
   ]
  },
  {
   "cell_type": "code",
   "execution_count": 0,
   "metadata": {
    "application/vnd.databricks.v1+cell": {
     "cellMetadata": {
      "byteLimit": 2048000,
      "rowLimit": 10000
     },
     "inputWidgets": {},
     "nuid": "032229c0-94ca-4f75-a70b-ee99cc7913e1",
     "showTitle": false,
     "tableResultSettingsMap": {
      "1": {
       "filterBlob": "{\"filterGroups\":[{\"enabled\":true,\"filterGroupId\":\"fg_a0a1cff6\",\"op\":\"OR\",\"filters\":[{\"filterId\":\"f_84d099fc\",\"enabled\":true,\"columnId\":\"customer_id\",\"dataType\":\"integer\",\"filterType\":\"oneof\",\"filterValues\":[]}],\"local\":false,\"updatedAt\":1737629197952}],\"syncTimestamp\":1737629198155}",
       "tableResultIndex": 1
      }
     },
     "title": ""
    }
   },
   "outputs": [],
   "source": [
    " \n",
    "customer_df.display()\n",
    "customer_behaviour_df.display()\n",
    "order_line_df.display()\n",
    "orders_df.display()\n",
    "customer_scd2_df.display()\n"
   ]
  },
  {
   "cell_type": "code",
   "execution_count": 0,
   "metadata": {
    "application/vnd.databricks.v1+cell": {
     "cellMetadata": {},
     "inputWidgets": {},
     "nuid": "46bb5501-9ffa-4926-8b2a-f2327c7115de",
     "showTitle": false,
     "tableResultSettingsMap": {},
     "title": ""
    }
   },
   "outputs": [],
   "source": [
    "customer_df.cache()"
   ]
  },
  {
   "cell_type": "markdown",
   "metadata": {
    "application/vnd.databricks.v1+cell": {
     "cellMetadata": {
      "byteLimit": 2048000,
      "rowLimit": 10000
     },
     "inputWidgets": {},
     "nuid": "b0888a76-3366-4bbf-91eb-b88ff5a7c3a3",
     "showTitle": false,
     "tableResultSettingsMap": {},
     "title": ""
    }
   },
   "source": [
    "#### TASK 1. REMOVE ROWS FROM CUSTOMERS FILE HAVING NULL PHONE **NUMBERS** "
   ]
  },
  {
   "cell_type": "code",
   "execution_count": 0,
   "metadata": {
    "application/vnd.databricks.v1+cell": {
     "cellMetadata": {
      "byteLimit": 2048000,
      "rowLimit": 10000
     },
     "inputWidgets": {},
     "nuid": "a35cfb0f-a69a-4bb9-839c-3f2466e7a4cc",
     "showTitle": false,
     "tableResultSettingsMap": {},
     "title": ""
    }
   },
   "outputs": [],
   "source": [
    "cleaned_customer_df = null_checks(customer_df,[\"phone\"])"
   ]
  },
  {
   "cell_type": "code",
   "execution_count": 0,
   "metadata": {
    "application/vnd.databricks.v1+cell": {
     "cellMetadata": {
      "byteLimit": 2048000,
      "rowLimit": 10000
     },
     "inputWidgets": {},
     "nuid": "cf6d8925-a0a3-405d-94ae-ca37773cccb4",
     "showTitle": false,
     "tableResultSettingsMap": {},
     "title": ""
    }
   },
   "outputs": [],
   "source": [
    "cleaned_customer_df.display()"
   ]
  },
  {
   "cell_type": "markdown",
   "metadata": {
    "application/vnd.databricks.v1+cell": {
     "cellMetadata": {
      "byteLimit": 2048000,
      "rowLimit": 10000
     },
     "inputWidgets": {},
     "nuid": "dc57a44a-9b2c-4b08-b425-844b320022ae",
     "showTitle": false,
     "tableResultSettingsMap": {},
     "title": ""
    }
   },
   "source": [
    "#### TASK 2. REMOVE ROWS FROM ORDER FILE HAVING NULL PHONE **NUMBERS** "
   ]
  },
  {
   "cell_type": "code",
   "execution_count": 0,
   "metadata": {
    "application/vnd.databricks.v1+cell": {
     "cellMetadata": {
      "byteLimit": 2048000,
      "rowLimit": 10000
     },
     "inputWidgets": {},
     "nuid": "9bb4e964-f486-40d9-ab5f-1a46f5c5c786",
     "showTitle": false,
     "tableResultSettingsMap": {},
     "title": ""
    }
   },
   "outputs": [],
   "source": [
    "cleaned_order_df = cleaned_customer_df.join(orders_df,\"customer_id\",\"inner\")\n",
    "cleaned_order_df.display()"
   ]
  },
  {
   "cell_type": "markdown",
   "metadata": {
    "application/vnd.databricks.v1+cell": {
     "cellMetadata": {
      "byteLimit": 2048000,
      "rowLimit": 10000
     },
     "inputWidgets": {},
     "nuid": "abd4bb37-4211-434a-8b0b-2cac32a8ce15",
     "showTitle": false,
     "tableResultSettingsMap": {},
     "title": ""
    }
   },
   "source": [
    "#### TASK 3. IN CUSTOMER_BEHAVIOUR FILE REMOVE ROWS FOR CUSTOMERS THAT HAVE PHONE NUMBERS BLANK"
   ]
  },
  {
   "cell_type": "code",
   "execution_count": 0,
   "metadata": {
    "application/vnd.databricks.v1+cell": {
     "cellMetadata": {
      "byteLimit": 2048000,
      "rowLimit": 10000
     },
     "inputWidgets": {},
     "nuid": "790a080c-0a58-4efa-a521-f9a3c1620a7d",
     "showTitle": false,
     "tableResultSettingsMap": {},
     "title": ""
    }
   },
   "outputs": [],
   "source": [
    "cleaned_customer_behaviour_df = cleaned_customer_df.join(customer_behaviour_df,\"customer_id\",\"inner\")\n",
    "cleaned_customer_behaviour_df.display()"
   ]
  },
  {
   "cell_type": "markdown",
   "metadata": {
    "application/vnd.databricks.v1+cell": {
     "cellMetadata": {
      "byteLimit": 2048000,
      "rowLimit": 10000
     },
     "inputWidgets": {},
     "nuid": "431bed73-9eff-460e-9d91-0ef8af66d01a",
     "showTitle": false,
     "tableResultSettingsMap": {},
     "title": ""
    }
   },
   "source": [
    "#### TASK 4. IN ORDERS DETAILS REMOVE ORDER LINES FOR WHICH ORDERS ARE REMOVED"
   ]
  },
  {
   "cell_type": "code",
   "execution_count": 0,
   "metadata": {
    "application/vnd.databricks.v1+cell": {
     "cellMetadata": {
      "byteLimit": 2048000,
      "rowLimit": 10000
     },
     "inputWidgets": {},
     "nuid": "a8222709-ad11-4b7f-a074-4ab2eb6fb574",
     "showTitle": false,
     "tableResultSettingsMap": {},
     "title": ""
    }
   },
   "outputs": [],
   "source": [
    "cleaned_order_line_df = cleaned_order_df.join(order_line_df,\"order_id\",\"inner\")\n",
    "cleaned_order_line_df.display()"
   ]
  },
  {
   "cell_type": "markdown",
   "metadata": {
    "application/vnd.databricks.v1+cell": {
     "cellMetadata": {
      "byteLimit": 2048000,
      "rowLimit": 10000
     },
     "inputWidgets": {},
     "nuid": "5d4d548f-90db-4815-b789-4730948fac5c",
     "showTitle": false,
     "tableResultSettingsMap": {},
     "title": ""
    }
   },
   "source": [
    "#### TASK 5. UPDATE TOTAL PURCHASE VALUE IN ORDER HEADER"
   ]
  },
  {
   "cell_type": "code",
   "execution_count": 0,
   "metadata": {
    "application/vnd.databricks.v1+cell": {
     "cellMetadata": {
      "byteLimit": 2048000,
      "rowLimit": 10000
     },
     "inputWidgets": {},
     "nuid": "78b242ab-8f0a-4537-abf3-f7dfed381785",
     "showTitle": false,
     "tableResultSettingsMap": {},
     "title": ""
    }
   },
   "outputs": [],
   "source": [
    "from pyspark.sql.functions import round, sum\n",
    "updated_purchase_value_df = orders_df.join(\n",
    "    order_line_df.groupBy(\"order_id\").agg(\n",
    "        round(sum(order_line_df.price * order_line_df.quantity), 2).alias(\"updated_total_purchase_value\")\n",
    "    ),\n",
    "    \"order_id\",\n",
    "    \"inner\"\n",
    ")\n",
    "display(updated_purchase_value_df)"
   ]
  },
  {
   "cell_type": "code",
   "execution_count": 0,
   "metadata": {
    "application/vnd.databricks.v1+cell": {
     "cellMetadata": {
      "byteLimit": 2048000,
      "rowLimit": 10000
     },
     "inputWidgets": {},
     "nuid": "f23d9813-9a9c-4255-8387-f02da0642639",
     "showTitle": false,
     "tableResultSettingsMap": {},
     "title": ""
    }
   },
   "outputs": [],
   "source": [
    "updated_purchase_value_df.display()"
   ]
  },
  {
   "cell_type": "markdown",
   "metadata": {
    "application/vnd.databricks.v1+cell": {
     "cellMetadata": {
      "byteLimit": 2048000,
      "rowLimit": 10000
     },
     "inputWidgets": {},
     "nuid": "735f8ab7-5414-457e-b5bb-cfbb854fc8b1",
     "showTitle": false,
     "tableResultSettingsMap": {},
     "title": ""
    }
   },
   "source": [
    "### WRITE ALL FILES TO SILVER `LAYER`"
   ]
  },
  {
   "cell_type": "code",
   "execution_count": 0,
   "metadata": {
    "application/vnd.databricks.v1+cell": {
     "cellMetadata": {
      "byteLimit": 2048000,
      "rowLimit": 10000
     },
     "inputWidgets": {},
     "nuid": "a266d6ec-2b6d-4d0a-bd55-5f4eba783639",
     "showTitle": false,
     "tableResultSettingsMap": {},
     "title": ""
    }
   },
   "outputs": [],
   "source": [
    "from datetime import datetime\n",
    "current_date = datetime.now().strftime(\"%Y-%m-%d\")"
   ]
  },
  {
   "cell_type": "code",
   "execution_count": 0,
   "metadata": {
    "application/vnd.databricks.v1+cell": {
     "cellMetadata": {
      "byteLimit": 2048000,
      "rowLimit": 10000
     },
     "inputWidgets": {},
     "nuid": "a2acc5f6-9a87-4f43-bcde-adea94be1dae",
     "showTitle": false,
     "tableResultSettingsMap": {},
     "title": ""
    }
   },
   "outputs": [],
   "source": [
    "cleaned_order_df.printSchema()"
   ]
  },
  {
   "cell_type": "code",
   "execution_count": 0,
   "metadata": {
    "application/vnd.databricks.v1+cell": {
     "cellMetadata": {
      "byteLimit": 2048000,
      "rowLimit": 10000
     },
     "inputWidgets": {},
     "nuid": "26548ec8-70ed-4645-85cc-cfe8b627f831",
     "showTitle": false,
     "tableResultSettingsMap": {},
     "title": ""
    }
   },
   "outputs": [],
   "source": [
    "cleaned_order_df.columns"
   ]
  },
  {
   "cell_type": "code",
   "execution_count": 0,
   "metadata": {
    "application/vnd.databricks.v1+cell": {
     "cellMetadata": {
      "byteLimit": 2048000,
      "rowLimit": 10000
     },
     "inputWidgets": {},
     "nuid": "54d47dea-3e0f-4a99-9306-f1d5ed1d6922",
     "showTitle": false,
     "tableResultSettingsMap": {},
     "title": ""
    }
   },
   "outputs": [],
   "source": [
    "cleaned_order_df = cleaned_order_df.select(\"customer_id\",\"first_name\",\"last_name\",\"email\",\"gender\",\"Address\",\"city\",customer_df.state,\"country\",\"zipcode\",\"phone\",\"Created_date\",\"loyalty\",\"order_id\",\"order_date\",\"order_channel\")"
   ]
  },
  {
   "cell_type": "code",
   "execution_count": 0,
   "metadata": {
    "application/vnd.databricks.v1+cell": {
     "cellMetadata": {
      "byteLimit": 2048000,
      "rowLimit": 10000
     },
     "inputWidgets": {},
     "nuid": "46108206-bb34-4495-aea4-8e27d687fbf5",
     "showTitle": false,
     "tableResultSettingsMap": {},
     "title": ""
    }
   },
   "outputs": [],
   "source": [
    "cleaned_order_line_df.printSchema()"
   ]
  },
  {
   "cell_type": "code",
   "execution_count": 0,
   "metadata": {
    "application/vnd.databricks.v1+cell": {
     "cellMetadata": {
      "byteLimit": 2048000,
      "rowLimit": 10000
     },
     "inputWidgets": {},
     "nuid": "39ba2c04-d91f-4b8c-8ff8-4d89230752d2",
     "showTitle": false,
     "tableResultSettingsMap": {},
     "title": ""
    }
   },
   "outputs": [],
   "source": [
    "cleaned_order_line_df = cleaned_order_line_df.select(\"customer_id\",\"order_id\",\"product\",\"quantity\",\"price\",\"order_currency\",\"order_date\",\"order_channel\",\"order_country\",customer_df.state,\"country\")"
   ]
  },
  {
   "cell_type": "code",
   "execution_count": 0,
   "metadata": {
    "application/vnd.databricks.v1+cell": {
     "cellMetadata": {
      "byteLimit": 2048000,
      "rowLimit": 10000
     },
     "inputWidgets": {},
     "nuid": "5690f3d9-681b-4732-8c7f-4a8ff6cf7d6f",
     "showTitle": false,
     "tableResultSettingsMap": {},
     "title": ""
    }
   },
   "outputs": [],
   "source": [
    "cleaned_customer_df.write.mode(\"overwrite\").format(\"delta\").save(f\"/mnt/bayerhackathon/RAHUL/silver/cleaned_customer_df/{current_date}/\")\n",
    "cleaned_order_df.write.mode(\"overwrite\").format(\"delta\").save(f\"/mnt/bayerhackathon/RAHUL/silver/cleaned_order_df/{current_date}/\")\n",
    "cleaned_order_line_df.write.mode(\"overwrite\").format(\"delta\").save(f\"/mnt/bayerhackathon/RAHUL/silver/cleaned_order_line_df/{current_date}/\")\n",
    "cleaned_customer_behaviour_df.write.mode(\"overwrite\").format(\"delta\").save(f\"/mnt/bayerhackathon/RAHUL/silver/cleaned_customer_behaviour_df/{current_date}/\") \n",
    "updated_purchase_value_df.write.mode(\"overwrite\").format(\"delta\").save(f\"/mnt/bayerhackathon/RAHUL/silver/updated_purchase_value_df/{current_date}/\")"
   ]
  }
 ],
 "metadata": {
  "application/vnd.databricks.v1+notebook": {
   "computePreferences": null,
   "dashboards": [],
   "environmentMetadata": {
    "base_environment": "",
    "client": "1"
   },
   "language": "python",
   "notebookMetadata": {
    "pythonIndentUnit": 4
   },
   "notebookName": "bronze_to_silver",
   "widgets": {}
  },
  "language_info": {
   "name": "python"
  }
 },
 "nbformat": 4,
 "nbformat_minor": 0
}
