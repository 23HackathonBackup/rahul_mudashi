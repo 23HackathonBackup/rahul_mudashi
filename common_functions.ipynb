{
 "cells": [
  {
   "cell_type": "markdown",
   "metadata": {
    "application/vnd.databricks.v1+cell": {
     "cellMetadata": {
      "byteLimit": 2048000,
      "rowLimit": 10000
     },
     "inputWidgets": {},
     "nuid": "52ec63b1-6d58-40e6-b597-c1a6e32d4580",
     "showTitle": false,
     "tableResultSettingsMap": {},
     "title": ""
    }
   },
   "source": [
    "#### IMPORTING ALL NECESSARY FUNCTIONS"
   ]
  },
  {
   "cell_type": "code",
   "execution_count": 0,
   "metadata": {
    "application/vnd.databricks.v1+cell": {
     "cellMetadata": {
      "byteLimit": 2048000,
      "rowLimit": 10000
     },
     "inputWidgets": {},
     "nuid": "6367622e-61b1-4a2f-9cb7-2b215a4dc48a",
     "showTitle": false,
     "tableResultSettingsMap": {},
     "title": ""
    }
   },
   "outputs": [],
   "source": [
    "from pyspark.sql.functions import col,lit,current_date,date_format,current_timestamp,regexp_extract,row_number,sum,aggregate\n",
    "\n",
    "from pyspark.sql.window import Window\n",
    "\n",
    "from pyspark.sql.types import StructType, StructField, StringType, IntegerType,DateType\n",
    "\n",
    "\n",
    "from pyspark.sql.functions import col, lit, current_date, row_number\n",
    "\n",
    "from pyspark.sql.window import Window\n",
    "\n",
    "from datetime import datetime\n",
    "current_date = datetime.now().strftime(\"%Y%m%d\")\n"
   ]
  },
  {
   "cell_type": "code",
   "execution_count": 0,
   "metadata": {
    "application/vnd.databricks.v1+cell": {
     "cellMetadata": {
      "byteLimit": 2048000,
      "rowLimit": 10000
     },
     "inputWidgets": {},
     "nuid": "9f474b41-3ee1-44c8-9292-3327be7032f1",
     "showTitle": false,
     "tableResultSettingsMap": {},
     "title": ""
    }
   },
   "outputs": [],
   "source": [
    "\n",
    "def null_checks(dataframe,column_name_list):\n",
    "    return dataframe.dropna(subset = column_name_list)\n"
   ]
  },
  {
   "cell_type": "code",
   "execution_count": 0,
   "metadata": {
    "application/vnd.databricks.v1+cell": {
     "cellMetadata": {
      "byteLimit": 2048000,
      "rowLimit": 10000
     },
     "inputWidgets": {},
     "nuid": "0cdab6dd-72da-40c1-a26b-cbd962a4cc01",
     "showTitle": false,
     "tableResultSettingsMap": {},
     "title": ""
    }
   },
   "outputs": [],
   "source": [
    "\n",
    "def drop_duplicate_records(dataframe,column_name_list):\n",
    "    return dataframe.dropDuplicates(subset = column_name_list)\n"
   ]
  },
  {
   "cell_type": "code",
   "execution_count": 0,
   "metadata": {
    "application/vnd.databricks.v1+cell": {
     "cellMetadata": {
      "byteLimit": 2048000,
      "rowLimit": 10000
     },
     "inputWidgets": {},
     "nuid": "d6c10488-8765-4acb-a53f-97df6f0990fe",
     "showTitle": false,
     "tableResultSettingsMap": {},
     "title": ""
    }
   },
   "outputs": [],
   "source": [
    "\n",
    "def split_column(dataframe,column_name):\n",
    "    df = dataframe.withColumn(\"address1\",regexp_extract(col(\"address\"),r\"(\\d+)\",0))\\\n",
    "            .withColumn(\"address2\",regexp_extract(col(\"address\"),r\"([^\\d]+)\",0))\n",
    "\n",
    "    return df"
   ]
  },
  {
   "cell_type": "code",
   "execution_count": 0,
   "metadata": {
    "application/vnd.databricks.v1+cell": {
     "cellMetadata": {
      "byteLimit": 2048000,
      "rowLimit": 10000
     },
     "inputWidgets": {},
     "nuid": "bb09cfb3-db1c-479d-8ec6-576414fb6d7f",
     "showTitle": false,
     "tableResultSettingsMap": {},
     "title": ""
    }
   },
   "outputs": [],
   "source": [
    "\n",
    "def apply_scd2(source_df, destination_df, partition_column):\n",
    "    from pyspark.sql.functions import col, lit, current_date, row_number\n",
    "    from pyspark.sql.window import Window\n",
    "\n",
    "    final_df = destination_df.unionByName(source_df)\n",
    "\n",
    "    window_spec = Window.partitionBy(partition_column).orderBy(col(\"Created_date\").desc())\n",
    "    ranked_data = final_df.withColumn(\"row\", row_number().over(window_spec))\n",
    "\n",
    "    active_Record = ranked_data.filter(col(\"row\") == 1).withColumn(\"Active_status\", lit(\"Yes\")).withColumn(\"END_DATE\", lit(\"9999-12-31\"))\n",
    "    inactive_Record = ranked_data.filter(col(\"row\") > 1).withColumn(\"Active_status\", lit(\"No\")).withColumn(\"END_DATE\", current_date())\n",
    "\n",
    "    return active_Record.unionByName(inactive_Record)"
   ]
  }
 ],
 "metadata": {
  "application/vnd.databricks.v1+notebook": {
   "computePreferences": null,
   "dashboards": [],
   "environmentMetadata": {
    "base_environment": "",
    "client": "1"
   },
   "language": "python",
   "notebookMetadata": {
    "pythonIndentUnit": 4
   },
   "notebookName": "common_functions",
   "widgets": {}
  },
  "language_info": {
   "name": "python"
  }
 },
 "nbformat": 4,
 "nbformat_minor": 0
}
